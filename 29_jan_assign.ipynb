{
 "cells": [
  {
   "cell_type": "code",
   "execution_count": null,
   "id": "f56c0f3d-e096-4891-be48-2c5ff9238ae1",
   "metadata": {},
   "outputs": [],
   "source": [
    "\"\"\"Q1. Who developed Python Programming Language\n",
    "    Ans: Pyhton Programming language was developed by Guido van Rossum in 1991\n",
    "\"\"\""
   ]
  },
  {
   "cell_type": "code",
   "execution_count": null,
   "id": "c4111b01-f6e0-433a-a233-935b13e779e7",
   "metadata": {},
   "outputs": [],
   "source": [
    "\"\"\"Q2. Which type of Programming does Python support?\n",
    "    Ans: Python support Imperative Prograaming, Object Oriented Programming, Functional Programming and Procedural Programming \n",
    "\"\"\""
   ]
  },
  {
   "cell_type": "code",
   "execution_count": null,
   "id": "2d958029-8987-4c50-a831-43bed7667c43",
   "metadata": {},
   "outputs": [],
   "source": [
    "\"\"\"Q3. Is Python case sensitive while dealing with identifiers?\n",
    "    Ans: Yes, Python is case sensitive while dealing with identifiers?\n",
    "\"\"\""
   ]
  },
  {
   "cell_type": "code",
   "execution_count": null,
   "id": "fe7360c1-8335-4e30-b92e-41b2762aac0d",
   "metadata": {},
   "outputs": [],
   "source": [
    "\"\"\"Q4. What is the correct extension of the python file?\n",
    "    Ans: .py is used for normal python programs and we use .ipynb when we are using anytype of notebook\n",
    "\"\"\""
   ]
  },
  {
   "cell_type": "code",
   "execution_count": null,
   "id": "bbde264a-34d0-4d08-a97f-76012b4c28ef",
   "metadata": {},
   "outputs": [],
   "source": [
    "\"\"\"Q5. is python code compiled or interpreted?\n",
    "    Ans: Python is Interpreted Language.\n",
    "\"\"\""
   ]
  },
  {
   "cell_type": "code",
   "execution_count": null,
   "id": "9a6e35f7-4a88-40d4-9e21-24bcb7a93779",
   "metadata": {},
   "outputs": [],
   "source": [
    "\"\"\"Q6. Name a few blocks of code used to define in python language?\n",
    "    Ans: We use Indentation to define a block of code in python language\n",
    "\"\"\""
   ]
  },
  {
   "cell_type": "code",
   "execution_count": null,
   "id": "2302ae30-fed6-4c41-9038-2b285f050f96",
   "metadata": {},
   "outputs": [],
   "source": [
    "\"\"\"Q7. State a character used to give single-line comment in python?\n",
    "    Ans: '#' is used to give single-line comment in python language.\n",
    "\"\"\""
   ]
  },
  {
   "cell_type": "code",
   "execution_count": null,
   "id": "6dac2a77-894d-4456-afb4-1f31ac168b81",
   "metadata": {},
   "outputs": [],
   "source": [
    "\"\"\"Q8. Mention functions which can help us to find the version of python that we are currently working in?\n",
    "    Ans:import sys\n",
    "        sys.version\n",
    "        we can use these 2 line of code to detemine the version of python.\n",
    "\"\"\"\n"
   ]
  },
  {
   "cell_type": "code",
   "execution_count": null,
   "id": "bacaf7e9-bf75-49c0-9724-6892e365e760",
   "metadata": {},
   "outputs": [],
   "source": [
    "\"\"\"Q9. Python supports the creation of anonymous functions at runtime, \n",
    "    using a consruct called lambda.\n",
    "\"\"\""
   ]
  },
  {
   "cell_type": "code",
   "execution_count": null,
   "id": "59b96d26-43d9-4e48-8a6b-781bbebb30f0",
   "metadata": {},
   "outputs": [],
   "source": [
    "\"\"\"Q10. What does pip stand for python?\n",
    "    Ans: pip stand for preferred installer program, \n",
    "    It allows you to install and manage additional packages that are not part of the Python standard library. \n",
    "\"\"\""
   ]
  },
  {
   "cell_type": "code",
   "execution_count": null,
   "id": "8932e8c7-0c71-4d7e-9319-7591e31e6daf",
   "metadata": {},
   "outputs": [],
   "source": [
    "\"\"\"Q11. Mention a few built-in functions in python?\n",
    "    Ans: Built-in finctions in python are:\n",
    "        1. print()\n",
    "        2. input()\n",
    "        3. int()\n",
    "        4. float()\n",
    "        5. str()\n",
    "        and more....\n",
    "\"\"\""
   ]
  },
  {
   "cell_type": "code",
   "execution_count": null,
   "id": "6fde6567-627b-4950-a97d-2e0619a3794f",
   "metadata": {},
   "outputs": [],
   "source": [
    "\"\"\"Q12. What is the maximum possible length of an identifier in python?\n",
    "    Ans: The maximum posiible length of an identifier is 79 characters.\n",
    "\"\"\""
   ]
  },
  {
   "cell_type": "code",
   "execution_count": null,
   "id": "a99dfd81-ad7b-45fe-82db-9824f9ef3cb3",
   "metadata": {},
   "outputs": [],
   "source": [
    "\"\"\"Q13. What are the benefits of using python? \n",
    "    Ans: Few benefits of python are:\n",
    "        1. Presence of third-party modules \n",
    "        2. Extensive support libraries(NumPy for numerical calculations, Pandas for data analytics, etc.) \n",
    "        3. Open source and large active community base \n",
    "        4. Versatile, Easy to read, learn and write\n",
    "        5.User-friendly data structures \n",
    "        6.High-level language \n",
    "        7.Dynamically typed language\n",
    "        and many more..\n",
    "\"\"\""
   ]
  },
  {
   "cell_type": "code",
   "execution_count": null,
   "id": "8111404b-578d-4edc-b906-21760d935b80",
   "metadata": {},
   "outputs": [],
   "source": [
    "\"\"\"Q14. How is memory managed in python?\n",
    "    Ans: According to the Python memory management documentation, Python has a private heap that stores our program’s objects and data structures.\n",
    "    Python memory manager takes care of the bulk of the memory management work and allows us to concentrate on our code.\n",
    "\"\"\""
   ]
  },
  {
   "cell_type": "code",
   "execution_count": null,
   "id": "0c936b09-208b-4144-a159-2a0197cf2fd7",
   "metadata": {},
   "outputs": [],
   "source": [
    "\"\"\"Q15. How to install python on windows and set path variable?\n",
    "    Ans:Step1 - Install python from python.org\n",
    "        Step2 - Add Python 3 to the windows 10 environment variable path\n",
    "        Step3 - Upgrade pip to be able to install Python modules\n",
    "\"\"\""
   ]
  },
  {
   "cell_type": "code",
   "execution_count": null,
   "id": "552bce65-7f55-4a17-832c-029eb83a95b4",
   "metadata": {},
   "outputs": [],
   "source": [
    "\"\"\"Q16. is Indentation required in python?\n",
    "    Ans: Yes, Indentaion is necceassy for writing python code.\n",
    "\"\"\""
   ]
  }
 ],
 "metadata": {
  "kernelspec": {
   "display_name": "Python 3 (ipykernel)",
   "language": "python",
   "name": "python3"
  },
  "language_info": {
   "codemirror_mode": {
    "name": "ipython",
    "version": 3
   },
   "file_extension": ".py",
   "mimetype": "text/x-python",
   "name": "python",
   "nbconvert_exporter": "python",
   "pygments_lexer": "ipython3",
   "version": "3.10.8"
  }
 },
 "nbformat": 4,
 "nbformat_minor": 5
}
